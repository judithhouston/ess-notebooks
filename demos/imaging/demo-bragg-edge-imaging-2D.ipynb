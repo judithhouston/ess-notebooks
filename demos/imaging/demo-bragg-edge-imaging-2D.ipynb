{
 "cells": [
  {
   "cell_type": "markdown",
   "metadata": {},
   "source": [
    "# Experimental Summary\n",
    "\n",
    "This script has been developed to measure local strain ε defined as ε = ΔL/L0 in a FCC steel sample under elastic strain in a stress rig. Measured at V20, HZB, Berlin, September 2018 by Peter Kadletz.\n",
    "\n",
    "λ = 2dsinθ, where 2θ = π (transmission), edges characterise the Bragg condition and hence λ = 2d. Therefore strain is easily computed from the wavelength measurement of of a Bragg edge directly, using un-loaded vs loaded experimental runs (and reference mesurements). The known Miller indices of the crystal structure (FCC) are used to predict the wavelength where the Bragg edges should exist, which is bound by the reachable wavelength extents for the instrument. This provides an approximate region to apply a fit.  A complement error function is used to fit each Bragg edge, and a refined centre location (λ) for the edge is used in the strain measurement. Because each bragg edge can be identified individually, one can determine anisotropic strain across the unit cell in the reachable crystallographic directions. In addition the image processing allows for spacial grouping so localised effects, such as those on unconstrained edges of the sample or in necking regions of the sample can be treated seperately. The plotted outputs in the script aim to capture this.\n",
    "\n",
    "![image1](IMG_2290.jpg)\n",
    "\n",
    "# Setup"
   ]
  },
  {
   "cell_type": "code",
   "execution_count": null,
   "metadata": {},
   "outputs": [],
   "source": [
    "import scipp as sc\n",
    "import numpy as np\n",
    "from scipp.plot import plot\n",
    "import matplotlib.pyplot as plt\n",
    "import utils\n",
    "from utils import wfm"
   ]
  },
  {
   "cell_type": "markdown",
   "metadata": {
    "pycharm": {
     "name": "#%% md\n"
    }
   },
   "source": [
    "# Reduction\n",
    "\n",
    "## Load the data files and instrument geometry"
   ]
  },
  {
   "cell_type": "code",
   "execution_count": null,
   "metadata": {
    "pycharm": {
     "name": "#%% \n"
    }
   },
   "outputs": [],
   "source": [
    "ds = utils.load()"
   ]
  },
  {
   "cell_type": "code",
   "execution_count": null,
   "metadata": {},
   "outputs": [],
   "source": [
    "ds"
   ]
  },
  {
   "cell_type": "markdown",
   "metadata": {},
   "source": [
    "## Raw data visualization"
   ]
  },
  {
   "cell_type": "code",
   "execution_count": null,
   "metadata": {},
   "outputs": [],
   "source": [
    "# plot(ds[\"sample\"])\n",
    "plot(sc.sum(sc.sum(ds[\"sample\"], 'x'), 'y'))"
   ]
  },
  {
   "cell_type": "code",
   "execution_count": null,
   "metadata": {},
   "outputs": [],
   "source": [
    "# sc.neutron.instrument_view(ds[\"sample\"])"
   ]
  },
  {
   "cell_type": "markdown",
   "metadata": {
    "pycharm": {
     "name": "#%% md\n"
    }
   },
   "source": [
    "## Converting time coordinate to TOF\n",
    "\n",
    "Use the instrument geometry and chopper cascade parameters to compute time-distance diagram."
   ]
  },
  {
   "cell_type": "code",
   "execution_count": null,
   "metadata": {},
   "outputs": [],
   "source": [
    "plt.ion()\n",
    "v20setup = wfm.v20.setup()\n",
    "# Feed in the detector position to the instrument chopper cascade\n",
    "v20setup['info']['detector_positions'] = {\n",
    "    \"GP2\": -ds.coords['source-position'].value[2] + v20setup['info']['wfm_choppers_midpoint'] + sc.geometry.z(\n",
    "    ds.coords[\"position\"])['x', 0]['y', 0].value}\n",
    "\n",
    "frames = wfm.get_frames(instrument=v20setup, plot=True)\n",
    "frames"
   ]
  },
  {
   "cell_type": "markdown",
   "metadata": {},
   "source": [
    "We overlay the frame locations onto a spectrum of integrated counts"
   ]
  },
  {
   "cell_type": "code",
   "execution_count": null,
   "metadata": {},
   "outputs": [],
   "source": [
    "plt.ioff()\n",
    "fig1, ax1 = plt.subplots()\n",
    "plot(sc.sum(sc.sum(ds[\"reference\"], 'x'), 'y'), ax=ax1)\n",
    "for i in range(len(frames[\"GP2\"][\"left_edges\"])):\n",
    "    ax1.axvspan(frames[\"GP2\"][\"left_edges\"][i], frames[\"GP2\"][\"right_edges\"][i], color=\"C{}\".format(i), alpha=0.3)\n",
    "fig1.canvas.draw_idle()\n",
    "fig1.canvas"
   ]
  },
  {
   "cell_type": "markdown",
   "metadata": {},
   "source": [
    "Extract the sections in the original data using value-based slicing and shift the coordinates:"
   ]
  },
  {
   "cell_type": "code",
   "execution_count": null,
   "metadata": {},
   "outputs": [],
   "source": [
    "plt.ion()\n",
    "stitched = wfm.stitch(data=ds, dim=\"t\", frames=frames[\"GP2\"], plot=True)\n",
    "stitched"
   ]
  },
  {
   "cell_type": "markdown",
   "metadata": {},
   "source": [
    "To stitch the data, we make a common container with a TOF axis spanning the entire range, and sum the counts from the different frames."
   ]
  },
  {
   "cell_type": "code",
   "execution_count": null,
   "metadata": {},
   "outputs": [],
   "source": [
    "plt.ioff()\n",
    "plot(sc.sum(sc.sum(stitched, 'x'), 'y'))"
   ]
  },
  {
   "cell_type": "markdown",
   "metadata": {},
   "source": [
    "## Crop to relevant tof section"
   ]
  },
  {
   "cell_type": "code",
   "execution_count": null,
   "metadata": {},
   "outputs": [],
   "source": [
    "tof_start = 9.0e3*sc.units.us\n",
    "tof_end = 2.75e4*sc.units.us\n",
    "stitched = stitched[\"tof\", tof_start:tof_end].copy()\n",
    "plot(sc.sum(sc.sum(stitched, 'x'), 'y'))"
   ]
  },
  {
   "cell_type": "markdown",
   "metadata": {},
   "source": [
    "## Transmission Masking\n",
    "\n",
    "Divides the integrated sample counts with an open beam reference. Any values > masking threshold will be masked. The adj pixels step checks for random pixels which were left unmasked or masked with all their neighbours having the same mask value. These are forced to True or false depending on their neighbour value."
   ]
  },
  {
   "cell_type": "code",
   "execution_count": null,
   "metadata": {},
   "outputs": [],
   "source": [
    "integrated = sc.sum(stitched, 'tof')\n",
    "integrated /= integrated[\"reference\"]"
   ]
  },
  {
   "cell_type": "code",
   "execution_count": null,
   "metadata": {},
   "outputs": [],
   "source": [
    "masking_threshold = 0.80 * sc.units.one\n",
    "\n",
    "for key in [\"sample\", \"sample_elastic\"]:\n",
    "    mask = sc.greater(integrated[key].data, masking_threshold)\n",
    "    # Apply some neighbour smoothing to the masks\n",
    "    mask = utils.operations.mask_from_adj_pixels(mask)\n",
    "    stitched[key].masks[\"non-sample-region\"] = mask\n",
    "stitched"
   ]
  },
  {
   "cell_type": "code",
   "execution_count": null,
   "metadata": {},
   "outputs": [],
   "source": [
    "plot(sc.sum(stitched[\"sample\"], \"tof\"))"
   ]
  },
  {
   "cell_type": "markdown",
   "metadata": {
    "pycharm": {
     "name": "#%% md\n"
    }
   },
   "source": [
    "## Normalization"
   ]
  },
  {
   "cell_type": "code",
   "execution_count": null,
   "metadata": {
    "pycharm": {
     "name": "#%%\n"
    }
   },
   "outputs": [],
   "source": [
    "# Normalize by open beam\n",
    "normalized = stitched / stitched[\"reference\"]\n",
    "del normalized[\"reference\"]"
   ]
  },
  {
   "cell_type": "code",
   "execution_count": null,
   "metadata": {
    "pycharm": {
     "name": "#%%\n"
    }
   },
   "outputs": [],
   "source": [
    "replacement = sc.Variable(value=0.0, variance=0.0)\n",
    "kwargs = {\"nan\": replacement, \"posinf\": replacement, \"neginf\": replacement}\n",
    "for k in normalized.keys():\n",
    "    sc.nan_to_num(normalized[k].data, out=normalized[k].data, **kwargs)\n",
    "\n",
    "plot(sc.sum(sc.sum(normalized, 'x'), 'y'))"
   ]
  },
  {
   "cell_type": "markdown",
   "metadata": {},
   "source": [
    "## Convert to wavelength"
   ]
  },
  {
   "cell_type": "code",
   "execution_count": null,
   "metadata": {},
   "outputs": [],
   "source": [
    "wavelength = sc.neutron.convert(normalized, \"tof\", \"wavelength\")"
   ]
  },
  {
   "cell_type": "code",
   "execution_count": null,
   "metadata": {},
   "outputs": [],
   "source": [
    "plot(wavelength[\"sample\"].data)"
   ]
  },
  {
   "cell_type": "code",
   "execution_count": null,
   "metadata": {},
   "outputs": [],
   "source": []
  },
  {
   "cell_type": "code",
   "execution_count": null,
   "metadata": {},
   "outputs": [],
   "source": []
  },
  {
   "cell_type": "code",
   "execution_count": null,
   "metadata": {},
   "outputs": [],
   "source": [
    "# Rebin to common wavelength axis\n",
    "edges = sc.array(dims=[\"wavelength\"],\n",
    "                       values=np.linspace(2.0, 5.5, 110), unit=sc.units.angstrom)\n",
    "wavelength = sc.rebin(wavelength, \"wavelength\", edges)\n",
    "wavelength"
   ]
  },
  {
   "cell_type": "code",
   "execution_count": null,
   "metadata": {},
   "outputs": [],
   "source": [
    "plot(wavelength[\"sample\"][\"x\", 150][\"y\", 150])"
   ]
  },
  {
   "cell_type": "code",
   "execution_count": null,
   "metadata": {},
   "outputs": [],
   "source": [
    "sc.sum(wavelength[\"sample\"][\"x\", 150][\"y\", 150], \"wavelength\")"
   ]
  },
  {
   "cell_type": "code",
   "execution_count": null,
   "metadata": {},
   "outputs": [],
   "source": [
    "plot(sc.sum(sc.sum(wavelength, 'x'), 'y'), grid=True)"
   ]
  },
  {
   "cell_type": "markdown",
   "metadata": {},
   "source": [
    "## Apply mean filter"
   ]
  },
  {
   "cell_type": "code",
   "execution_count": null,
   "metadata": {},
   "outputs": [],
   "source": [
    "for key in wavelength:\n",
    "    wavelength[key].data = utils.operations.mean_from_adj_pixels(wavelength[key].data)"
   ]
  },
  {
   "cell_type": "code",
   "execution_count": null,
   "metadata": {},
   "outputs": [],
   "source": [
    "# plot(wavelength[\"sample\"])\n",
    "plot(sc.sum(sc.sum(wavelength, 'x'), 'y'), grid=True)"
   ]
  },
  {
   "cell_type": "markdown",
   "metadata": {},
   "source": [
    "### Show difference between sample and elastic"
   ]
  },
  {
   "cell_type": "code",
   "execution_count": null,
   "metadata": {},
   "outputs": [],
   "source": [
    "plot(wavelength[\"sample\"] - wavelength[\"sample_elastic\"])"
   ]
  },
  {
   "cell_type": "markdown",
   "metadata": {},
   "source": [
    "## Group detector pixels to increase signal to noise"
   ]
  },
  {
   "cell_type": "code",
   "execution_count": null,
   "metadata": {},
   "outputs": [],
   "source": [
    "nx_original = ny_original = 324\n",
    "nx_target = ny_target = 27\n",
    "\n",
    "element_width_x = nx_original // nx_target\n",
    "element_width_y = ny_original // ny_target\n",
    "\n",
    "x = sc.Variable(dims=['x'],\n",
    "                values=np.arange(nx_original) // element_width_x)\n",
    "y = sc.Variable(dims=['y'],\n",
    "                values=np.arange(ny_original) // element_width_y)\n",
    "grid = x + nx_target * y\n",
    "spectrum_mapping = sc.Variable([\"spectrum\"], values=np.ravel(grid.values))"
   ]
  },
  {
   "cell_type": "code",
   "execution_count": null,
   "metadata": {},
   "outputs": [],
   "source": [
    "spectrum_mapping"
   ]
  },
  {
   "cell_type": "code",
   "execution_count": null,
   "metadata": {},
   "outputs": [],
   "source": [
    "reshaped = sc.DataArray(data=sc.reshape(wavelength[\"sample_elastic\"].data, dims=[\"wavelength\", \"spectrum\"], shape=(128, 324*324)))\n",
    "reshaped.coords[\"spectrum\"] = sc.array(dims=[\"spectrum\"], values=np.arange(324*324))\n",
    "for c in [\"wavelength\", \"sample-position\", \"source-position\"]:\n",
    "    reshaped.coords[c] = wavelength[\"sample_elastic\"].coords[c]\n",
    "reshaped"
   ]
  },
  {
   "cell_type": "code",
   "execution_count": null,
   "metadata": {},
   "outputs": [],
   "source": [
    "reshaped.coords[\"spectrum_mapping\"] = spectrum_mapping\n",
    "reshaped"
   ]
  },
  {
   "cell_type": "code",
   "execution_count": null,
   "metadata": {},
   "outputs": [],
   "source": [
    "# Group detectors for the sample_elastic / sample_plastic\n",
    "grouped = sc.groupby(reshaped, \"spectrum_mapping\").sum(\"spectrum\")\n",
    "# grouped_sample_elastic = grouped[\"sample_elastic\"]\n",
    "grouped"
   ]
  },
  {
   "cell_type": "code",
   "execution_count": null,
   "metadata": {},
   "outputs": [],
   "source": [
    "plot(sc.sum(grouped, \"spectrum_mapping\"), grid=True)"
   ]
  },
  {
   "cell_type": "code",
   "execution_count": null,
   "metadata": {},
   "outputs": [],
   "source": []
  },
  {
   "cell_type": "code",
   "execution_count": null,
   "metadata": {},
   "outputs": [],
   "source": [
    "rebinned = sc.rebin(wavelength, \"x\",\n",
    "                sc.array(dims=['x'], values=np.linspace(-0.011, 0.011, 33), unit=sc.units.m))\n",
    "rebinned = sc.rebin(rebinned, \"y\",\n",
    "                sc.array(dims=['y'], values=np.linspace(-0.011, 0.011, 33), unit=sc.units.m))\n",
    "# plot(wavelength[\"sample\"])"
   ]
  },
  {
   "cell_type": "code",
   "execution_count": null,
   "metadata": {},
   "outputs": [],
   "source": [
    "# plot(wavelength[\"sample_elastic\"])"
   ]
  },
  {
   "cell_type": "code",
   "execution_count": null,
   "metadata": {},
   "outputs": [],
   "source": [
    "plot({\"rebinned\": sc.sum(sc.sum(rebinned, 'x'), 'y'), \"original\": sc.sum(sc.sum(wavelength, 'x'), 'y')}, grid=True)"
   ]
  },
  {
   "cell_type": "code",
   "execution_count": null,
   "metadata": {},
   "outputs": [],
   "source": [
    "28000. * 144"
   ]
  },
  {
   "cell_type": "markdown",
   "metadata": {},
   "source": [
    "# Fitting\n",
    "\n",
    "## Weighted sum of the counts in the sample\n",
    "\n",
    "We use the unloaded sample as our reference, so we perform a weighted sum (using the inverse of the variances as weights) of the counts from all the pixels to increase statistics"
   ]
  },
  {
   "cell_type": "code",
   "execution_count": null,
   "metadata": {},
   "outputs": [],
   "source": [
    "variances = sc.variances(wavelength[\"sample\"].data)\n",
    "sample_summed = sc.nansum(sc.nansum(\n",
    "    wavelength[\"sample\"] / variances, 'x'), 'y') / sc.nansum(sc.nansum(\n",
    "    sc.reciprocal(variances), 'x'), 'y')\n",
    "sample_summed"
   ]
  },
  {
   "cell_type": "code",
   "execution_count": null,
   "metadata": {},
   "outputs": [],
   "source": [
    "plot(sample_summed)"
   ]
  },
  {
   "cell_type": "markdown",
   "metadata": {},
   "source": [
    "## Calculate expected Bragg edge positions "
   ]
  },
  {
   "cell_type": "code",
   "execution_count": null,
   "metadata": {},
   "outputs": [],
   "source": [
    "# Bragg edge position, in Angstrom, taken from COD entry 9008469\n",
    "FCC_a = 3.5\n",
    "\n",
    "# These miller indices for the given unit cell yield bragg edges\n",
    "# between the maximum and minimum wavelength range.\n",
    "indices_FCC = [(1, 1, 1), (2, 0, 0), (2, 2, 0), (3, 1, 1)]\n",
    "\n",
    "Bragg_edges_FCC = utils.create_Braggedge_list(FCC_a, indices_FCC)"
   ]
  },
  {
   "cell_type": "markdown",
   "metadata": {},
   "source": [
    "## Bragg-edge fitting\n",
    "\n",
    "Fit Bragg-edge peaks for the sample initially. Then take this value to find the position within a window\n",
    "for the elastic sample."
   ]
  },
  {
   "cell_type": "code",
   "execution_count": null,
   "metadata": {},
   "outputs": [],
   "source": []
  }
 ],
 "metadata": {
  "kernelspec": {
   "display_name": "Python 3",
   "language": "python",
   "name": "python3"
  },
  "language_info": {
   "codemirror_mode": {
    "name": "ipython",
    "version": 3
   },
   "file_extension": ".py",
   "mimetype": "text/x-python",
   "name": "python",
   "nbconvert_exporter": "python",
   "pygments_lexer": "ipython3",
   "version": "3.7.7"
  },
  "toc": {
   "base_numbering": 1,
   "nav_menu": {},
   "number_sections": true,
   "sideBar": true,
   "skip_h1_title": false,
   "title_cell": "Table of Contents",
   "title_sidebar": "Contents",
   "toc_cell": false,
   "toc_position": {},
   "toc_section_display": true,
   "toc_window_display": false
  }
 },
 "nbformat": 4,
 "nbformat_minor": 2
}
