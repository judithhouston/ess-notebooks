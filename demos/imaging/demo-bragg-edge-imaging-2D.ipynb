{
 "cells": [
  {
   "cell_type": "markdown",
   "metadata": {},
   "source": [
    "# Experimental Summary\n",
    "\n",
    "This script has been developed to measure local strain ε defined as ε = ΔL/L0 in a FCC steel sample under elastic strain in a stress rig. Measured at V20, HZB, Berlin, September 2018 by Peter Kadletz.\n",
    "\n",
    "λ = 2dsinθ, where 2θ = π (transmission), edges characterise the Bragg condition and hence λ = 2d. Therefore strain is easily computed from the wavelength measurement of of a Bragg edge directly, using un-loaded vs loaded experimental runs (and reference mesurements). The known Miller indices of the crystal structure (FCC) are used to predict the wavelength where the Bragg edges should exist, which is bound by the reachable wavelength extents for the instrument. This provides an approximate region to apply a fit.  A complement error function is used to fit each Bragg edge, and a refined centre location (λ) for the edge is used in the strain measurement. Because each bragg edge can be identified individually, one can determine anisotropic strain across the unit cell in the reachable crystallographic directions. In addition the image processing allows for spacial grouping so localised effects, such as those on unconstrained edges of the sample or in necking regions of the sample can be treated seperately. The plotted outputs in the script aim to capture this.\n",
    "\n",
    "<img src=\"IMG_2290.jpg\" width=\"500\"/>\n",
    "\n",
    "# Setup"
   ]
  },
  {
   "cell_type": "code",
   "execution_count": null,
   "metadata": {},
   "outputs": [],
   "source": [
    "import scipp as sc\n",
    "import numpy as np\n",
    "from scipp.plot import plot\n",
    "import matplotlib.pyplot as plt\n",
    "import utils\n",
    "from utils import wfm"
   ]
  },
  {
   "cell_type": "markdown",
   "metadata": {
    "pycharm": {
     "name": "#%% md\n"
    }
   },
   "source": [
    "# Reduction\n",
    "\n",
    "## Load the data files and instrument geometry"
   ]
  },
  {
   "cell_type": "code",
   "execution_count": null,
   "metadata": {
    "pycharm": {
     "name": "#%% \n"
    }
   },
   "outputs": [],
   "source": [
    "ds = utils.load()"
   ]
  },
  {
   "cell_type": "code",
   "execution_count": null,
   "metadata": {},
   "outputs": [],
   "source": [
    "ds"
   ]
  },
  {
   "cell_type": "markdown",
   "metadata": {},
   "source": [
    "## Raw data visualization"
   ]
  },
  {
   "cell_type": "code",
   "execution_count": null,
   "metadata": {},
   "outputs": [],
   "source": [
    "plot(ds[\"sample\"])"
   ]
  },
  {
   "cell_type": "markdown",
   "metadata": {
    "pycharm": {
     "name": "#%% md\n"
    }
   },
   "source": [
    "## Converting time coordinate to TOF\n",
    "\n",
    "Use the instrument geometry and chopper cascade parameters to compute time-distance diagram."
   ]
  },
  {
   "cell_type": "code",
   "execution_count": null,
   "metadata": {},
   "outputs": [],
   "source": [
    "plt.ion()\n",
    "v20setup = wfm.v20.setup()\n",
    "# Feed in the detector position to the instrument chopper cascade\n",
    "v20setup['info']['detector_positions'] = {\n",
    "    \"GP2\": -ds.coords['source-position'].value[2] + v20setup['info']['wfm_choppers_midpoint'] + sc.geometry.z(\n",
    "    ds.coords[\"position\"])['x', 0]['y', 0].value}\n",
    "\n",
    "frames = wfm.get_frames(instrument=v20setup, plot=True)\n",
    "frames"
   ]
  },
  {
   "cell_type": "markdown",
   "metadata": {},
   "source": [
    "We overlay the frame locations onto a spectrum of integrated counts"
   ]
  },
  {
   "cell_type": "code",
   "execution_count": null,
   "metadata": {},
   "outputs": [],
   "source": [
    "plt.ioff()\n",
    "fig1, ax1 = plt.subplots()\n",
    "plot(sc.sum(sc.sum(ds[\"reference\"], 'x'), 'y'), ax=ax1)\n",
    "for i in range(len(frames[\"GP2\"][\"left_edges\"])):\n",
    "    ax1.axvspan(frames[\"GP2\"][\"left_edges\"][i], frames[\"GP2\"][\"right_edges\"][i], color=\"C{}\".format(i), alpha=0.3)\n",
    "fig1.canvas.draw_idle()\n",
    "fig1.canvas"
   ]
  },
  {
   "cell_type": "markdown",
   "metadata": {},
   "source": [
    "Extract the sections in the original data using value-based slicing and shift the coordinates:"
   ]
  },
  {
   "cell_type": "code",
   "execution_count": null,
   "metadata": {},
   "outputs": [],
   "source": [
    "plt.ion()\n",
    "stitched = wfm.stitch(data=ds, dim=\"t\", frames=frames[\"GP2\"], plot=True)\n",
    "stitched"
   ]
  },
  {
   "cell_type": "markdown",
   "metadata": {},
   "source": [
    "To stitch the data, we make a common container with a TOF axis spanning the entire range, and sum the counts from the different frames."
   ]
  },
  {
   "cell_type": "code",
   "execution_count": null,
   "metadata": {},
   "outputs": [],
   "source": [
    "plt.ioff()\n",
    "plot(sc.sum(sc.sum(stitched, 'x'), 'y'))"
   ]
  },
  {
   "cell_type": "markdown",
   "metadata": {},
   "source": [
    "## Crop to relevant Tof section"
   ]
  },
  {
   "cell_type": "code",
   "execution_count": null,
   "metadata": {},
   "outputs": [],
   "source": [
    "tof_start = 9.0e3*sc.units.us\n",
    "tof_end = 2.75e4*sc.units.us\n",
    "stitched = stitched[\"tof\", tof_start:tof_end].copy()\n",
    "plot(sc.sum(sc.sum(stitched, 'x'), 'y'))"
   ]
  },
  {
   "cell_type": "markdown",
   "metadata": {},
   "source": [
    "## Transmission Masking\n",
    "\n",
    "Divides the integrated sample counts with an open beam reference. Any values > masking threshold will be masked. The adj pixels step checks for random pixels which were left unmasked or masked with all their neighbours having the same mask value. These are forced to True or false depending on their neighbour value."
   ]
  },
  {
   "cell_type": "code",
   "execution_count": null,
   "metadata": {},
   "outputs": [],
   "source": [
    "integrated = sc.sum(stitched, 'tof')\n",
    "integrated /= integrated[\"reference\"]"
   ]
  },
  {
   "cell_type": "code",
   "execution_count": null,
   "metadata": {},
   "outputs": [],
   "source": [
    "masking_threshold = 0.80 * sc.units.one\n",
    "\n",
    "for key in [\"sample\", \"sample_elastic\"]:\n",
    "    mask = sc.greater(integrated[key].data, masking_threshold)\n",
    "    # Apply some neighbour smoothing to the masks\n",
    "    mask = utils.operations.mask_from_adj_pixels(mask)\n",
    "    stitched[key].masks[\"non-sample-region\"] = mask\n",
    "stitched"
   ]
  },
  {
   "cell_type": "code",
   "execution_count": null,
   "metadata": {},
   "outputs": [],
   "source": [
    "plot(sc.sum(stitched[\"sample\"], \"tof\"))"
   ]
  },
  {
   "cell_type": "markdown",
   "metadata": {},
   "source": [
    "## Convert to wavelength"
   ]
  },
  {
   "cell_type": "code",
   "execution_count": null,
   "metadata": {},
   "outputs": [],
   "source": [
    "wavelength = sc.neutron.convert(stitched, \"tof\", \"wavelength\")\n",
    "\n",
    "# Rebin to common wavelength axis\n",
    "edges = sc.array(dims=[\"wavelength\"],\n",
    "                       values=np.linspace(2.0, 5.5, 129), unit=sc.units.angstrom)\n",
    "wavelength = sc.rebin(wavelength, \"wavelength\", edges)\n",
    "\n",
    "wavelength"
   ]
  },
  {
   "cell_type": "markdown",
   "metadata": {},
   "source": [
    "## Apply mean filter"
   ]
  },
  {
   "cell_type": "code",
   "execution_count": null,
   "metadata": {},
   "outputs": [],
   "source": [
    "for key in wavelength:\n",
    "    wavelength[key].data = utils.operations.mean_from_adj_pixels(wavelength[key].data)"
   ]
  },
  {
   "cell_type": "code",
   "execution_count": null,
   "metadata": {},
   "outputs": [],
   "source": [
    "plot(wavelength[\"sample\"])"
   ]
  },
  {
   "cell_type": "markdown",
   "metadata": {},
   "source": [
    "## Other visualizations\n",
    "\n",
    "### Show difference between sample and elastic"
   ]
  },
  {
   "cell_type": "code",
   "execution_count": null,
   "metadata": {},
   "outputs": [],
   "source": [
    "plot(wavelength[\"sample\"] - wavelength[\"sample_elastic\"])"
   ]
  },
  {
   "cell_type": "markdown",
   "metadata": {},
   "source": [
    "### $-\\ln(I / I_0)$ plot"
   ]
  },
  {
   "cell_type": "code",
   "execution_count": null,
   "metadata": {},
   "outputs": [],
   "source": [
    "plot(-sc.log(sc.sum(wavelength[\"sample_elastic\"], \"wavelength\") / \n",
    "             sc.sum(wavelength[\"reference\"], \"wavelength\")),\n",
    "     vmin=0.25, vmax=0.33)"
   ]
  },
  {
   "cell_type": "markdown",
   "metadata": {},
   "source": [
    "## Group detector pixels to increase signal to noise"
   ]
  },
  {
   "cell_type": "code",
   "execution_count": null,
   "metadata": {},
   "outputs": [],
   "source": [
    "grouped = utils.groupby2D(wavelength, nbins=27)"
   ]
  },
  {
   "cell_type": "code",
   "execution_count": null,
   "metadata": {},
   "outputs": [],
   "source": [
    "plot(grouped[\"sample\"])"
   ]
  },
  {
   "cell_type": "code",
   "execution_count": null,
   "metadata": {},
   "outputs": [],
   "source": [
    "# plot({\"original\": sc.sum(sc.sum(wavelength, 'x'), 'y'),\n",
    "#       \"grouped\": sc.sum(sc.sum(grouped, 'x'), 'y')}, grid=True)"
   ]
  },
  {
   "cell_type": "code",
   "execution_count": null,
   "metadata": {},
   "outputs": [],
   "source": [
    "# plot(sc.sum(sc.sum(rebinned, 'x'), 'y'), grid=True)"
   ]
  },
  {
   "cell_type": "code",
   "execution_count": null,
   "metadata": {},
   "outputs": [],
   "source": [
    "for key, item in grouped.items():\n",
    "    item.masks[\"zero-counts\"] = item.data == 0.0*sc.units.counts\n",
    "grouped"
   ]
  },
  {
   "cell_type": "markdown",
   "metadata": {
    "pycharm": {
     "name": "#%% md\n"
    }
   },
   "source": [
    "## Normalization"
   ]
  },
  {
   "cell_type": "code",
   "execution_count": null,
   "metadata": {
    "pycharm": {
     "name": "#%%\n"
    }
   },
   "outputs": [],
   "source": [
    "# Normalize by open beam\n",
    "normalized = grouped / grouped[\"reference\"]\n",
    "del normalized[\"reference\"]"
   ]
  },
  {
   "cell_type": "code",
   "execution_count": null,
   "metadata": {
    "pycharm": {
     "name": "#%%\n"
    }
   },
   "outputs": [],
   "source": [
    "replacement = sc.Variable(value=0.0, variance=0.0)\n",
    "kwargs = {\"nan\": replacement, \"posinf\": replacement, \"neginf\": replacement}\n",
    "for k in normalized.keys():\n",
    "    sc.nan_to_num(normalized[k].data, out=normalized[k].data, **kwargs)\n",
    "\n",
    "plot(sc.sum(sc.sum(normalized, 'x'), 'y'), grid=True)"
   ]
  },
  {
   "cell_type": "markdown",
   "metadata": {},
   "source": [
    "# Bragg edge fitting\n",
    "\n",
    "We will first carry out Bragg-edge fitting on the sum of all counts in the sample."
   ]
  },
  {
   "cell_type": "code",
   "execution_count": null,
   "metadata": {},
   "outputs": [],
   "source": [
    "sample_summed = sc.sum(sc.sum(normalized[\"sample\"], 'x'), 'y')\n",
    "plot(sample_summed)"
   ]
  },
  {
   "cell_type": "markdown",
   "metadata": {},
   "source": [
    "## Calculate expected Bragg edge positions "
   ]
  },
  {
   "cell_type": "code",
   "execution_count": null,
   "metadata": {},
   "outputs": [],
   "source": [
    "# Bragg edge position, in Angstrom, taken from COD entry 9008469\n",
    "FCC_a = 3.5\n",
    "\n",
    "# These miller indices for the given unit cell yield bragg edges\n",
    "# between the maximum and minimum wavelength range.\n",
    "indices_FCC = [(1, 1, 1), (2, 0, 0), (2, 2, 0), (3, 1, 1)]\n",
    "\n",
    "Bragg_edges_FCC = utils.create_Braggedge_list(FCC_a, indices_FCC)"
   ]
  },
  {
   "cell_type": "markdown",
   "metadata": {},
   "source": [
    "## Run the fitting (currently using Mantid under the hood)"
   ]
  },
  {
   "cell_type": "code",
   "execution_count": null,
   "metadata": {},
   "outputs": [],
   "source": [
    "fit_params = utils.fit(Bragg_edges_FCC, reference=sample_summed)"
   ]
  },
  {
   "cell_type": "code",
   "execution_count": null,
   "metadata": {},
   "outputs": [],
   "source": [
    "import scipy as sp\n",
    "fig, ax = plt.subplots()\n",
    "sample_summed.plot(ax=ax)\n",
    "# x = np.linspace(2.0, 5.5, 200)\n",
    "# ax.plot(x, (270 - 10.0*x))\n",
    "for i, f in enumerate(fit_params):\n",
    "    x = np.linspace(f['f1.x0'].value - 0.3, f['f1.x0'].value + 0.3, 100)\n",
    "    y=f['f1.h'].value*sp.special.erf(f['f1.a'].value*(x-f['f1.x0'].value)) + (f['f0.A0'].value + f['f0.A1'].value*x)\n",
    "    ax.plot(x, y, color=\"C{}\".format(i+1), label=Bragg_edges_FCC.coords['miller-indices'].values[i])\n",
    "ax.legend()\n",
    "fig.canvas"
   ]
  },
  {
   "cell_type": "code",
   "execution_count": null,
   "metadata": {},
   "outputs": [],
   "source": []
  }
 ],
 "metadata": {
  "kernelspec": {
   "display_name": "Python 3",
   "language": "python",
   "name": "python3"
  },
  "language_info": {
   "codemirror_mode": {
    "name": "ipython",
    "version": 3
   },
   "file_extension": ".py",
   "mimetype": "text/x-python",
   "name": "python",
   "nbconvert_exporter": "python",
   "pygments_lexer": "ipython3",
   "version": "3.7.7"
  },
  "toc": {
   "base_numbering": 1,
   "nav_menu": {},
   "number_sections": true,
   "sideBar": true,
   "skip_h1_title": false,
   "title_cell": "Table of Contents",
   "title_sidebar": "Contents",
   "toc_cell": false,
   "toc_position": {},
   "toc_section_display": true,
   "toc_window_display": false
  }
 },
 "nbformat": 4,
 "nbformat_minor": 2
}
