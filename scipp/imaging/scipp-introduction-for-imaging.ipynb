{
 "cells": [
  {
   "cell_type": "markdown",
   "metadata": {},
   "source": [
    "## What is scipp\n",
    "\n",
    "Containers providing multi-dimensional array with associated dicts of coordinates, masks, and attributes\n",
    "\n",
    "* A Mantid evolution borne out of attempt to reimaging data structures\n",
    "* Heavily influenced by python xarray project\n",
    "* C++ core with python bindings. Python is first-class element.\n",
    "* Developed gathered pace in 2020\n"
   ]
  },
  {
   "cell_type": "markdown",
   "metadata": {},
   "source": [
    "## Feature Summary\n",
    "\n",
    "* Very flexible containers `Dataset`, `DataArray` with good optimistaion potential\n",
    "* Supports key features `Variances`, `Histograms`, `Masking`, `Events`, `Units`, `Bin-edges`, `Slicing`\n",
    "* Can provide a good scientific representation of data, does not force users to work in Detector-Space\n",
    "* Emphasises use of built-in generic functions\n",
    "* Bundles it's own plotting library\n",
    "\n"
   ]
  },
  {
   "cell_type": "markdown",
   "metadata": {},
   "source": [
    "## Feature Exhibit\n",
    "\n",
    "There are many demos and tutorials in the scipp online [documentation](https://scipp.github.io/)\n",
    "\n",
    "\n"
   ]
  },
  {
   "cell_type": "markdown",
   "metadata": {},
   "source": [
    "### N-d data"
   ]
  },
  {
   "cell_type": "code",
   "execution_count": null,
   "metadata": {},
   "outputs": [],
   "source": [
    "import scipp as sc\n",
    "import numpy as np\n",
    "image_data = sc.Variable(dims=['y', 'x'], values=np.arange(100.0).reshape(10,10))"
   ]
  },
  {
   "cell_type": "code",
   "execution_count": null,
   "metadata": {},
   "outputs": [],
   "source": [
    "from scipp.plot import plot\n",
    "plot(image_data)"
   ]
  },
  {
   "cell_type": "markdown",
   "metadata": {},
   "source": [
    "### Coordinates"
   ]
  },
  {
   "cell_type": "code",
   "execution_count": null,
   "metadata": {},
   "outputs": [],
   "source": [
    "x = sc.Variable(['x'], values=np.arange(10), unit=sc.units.mm)\n",
    "y = sc.Variable(['y'], values=np.arange(10), unit=sc.units.mm)\n",
    "image = sc.DataArray(data=image_data, coords={'x':x, 'y':y})\n",
    "plot(image, aspect='equal')"
   ]
  },
  {
   "cell_type": "markdown",
   "metadata": {},
   "source": [
    "### Masking"
   ]
  },
  {
   "cell_type": "code",
   "execution_count": null,
   "metadata": {},
   "outputs": [],
   "source": [
    "image.masks['lhs'] = image.coords['x'] < 5.0 * sc.units.mm\n",
    "plot(image)"
   ]
  },
  {
   "cell_type": "markdown",
   "metadata": {},
   "source": [
    "### Slicing"
   ]
  },
  {
   "cell_type": "code",
   "execution_count": null,
   "metadata": {},
   "outputs": [],
   "source": [
    "\n",
    "plot(image['x', 4:], aspect='equal')"
   ]
  },
  {
   "cell_type": "code",
   "execution_count": null,
   "metadata": {},
   "outputs": [],
   "source": [
    "plot(image['y', 1:]['x', 4:], aspect='equal')"
   ]
  },
  {
   "cell_type": "markdown",
   "metadata": {},
   "source": [
    "### Dynamic type control"
   ]
  },
  {
   "cell_type": "code",
   "execution_count": null,
   "metadata": {},
   "outputs": [],
   "source": [
    "import sys\n",
    "sys.getsizeof(image_data)"
   ]
  },
  {
   "cell_type": "code",
   "execution_count": null,
   "metadata": {},
   "outputs": [],
   "source": [
    "sys.getsizeof(image_data.astype(sc.dtype))"
   ]
  },
  {
   "cell_type": "code",
   "execution_count": null,
   "metadata": {},
   "outputs": [],
   "source": [
    "u=sc.Variable(['x'], values=np.array([1,2,np.nan]))\n",
    "help(sc.isnan)\n",
    "np.isnan(np.array([np.nan, np.nan, 1]))"
   ]
  },
  {
   "cell_type": "markdown",
   "metadata": {},
   "source": [
    "## Pacakges\n",
    "\n",
    "Conda packages for `Linux`, `OSX`, and `Windows` on [anaconda cloud](https://anaconda.org/scipp/scipp)\n",
    "\n",
    "### Installation\n",
    "\n",
    "Simply\n",
    "<div>\n",
    "  <p style=\"color: #ffffff; background-color: #000000; padding: 20px\">\n",
    "&nbsp;conda install -c conda-forge -c scipp scipp\n",
    "    </p>\n",
    "<div>\n",
    "\n",
    "\n",
    "Full installation notes [here](https://scipp.github.io/getting-started/installation.html)\n",
    "\n"
   ]
  },
  {
   "cell_type": "markdown",
   "metadata": {},
   "source": [
    "## Future Plans\n",
    "\n",
    "* Scipp 0.5 release coming in next few weeks.\n",
    "* Technical short-term [roadmap](https://scipp.github.io/about/roadmap.html) already available\n",
    "* Across technique areas Issues and priorities are already being driven by **Instrument Data Scientists**. Includes Søren Schmidt\n",
    "* Aligned to above, scipp is being supplimented by `ess` and `neutron` specific modules that provide bespoke tools. \n",
    "\n",
    "\n",
    "\n"
   ]
  },
  {
   "cell_type": "markdown",
   "metadata": {},
   "source": [
    "## Futher Reading\n",
    "\n",
    "1. `Heybrock, Simon et al. \"Scipp: Scientific Data Handling with Labeled Multi-dimensional Arrays for C++ and Python\". 1 Jan. 2020 : 169 – 181`\n",
    "[PDF](https://arxiv.org/pdf/2010.00257.pdf) Simon Heybrock et al. \n",
    "1. [Source Code](https://github.com/scipp/scipp)"
   ]
  }
 ],
 "metadata": {
  "kernelspec": {
   "display_name": "Python 3",
   "language": "python",
   "name": "python3"
  },
  "language_info": {
   "codemirror_mode": {
    "name": "ipython",
    "version": 3
   },
   "file_extension": ".py",
   "mimetype": "text/x-python",
   "name": "python",
   "nbconvert_exporter": "python",
   "pygments_lexer": "ipython3",
   "version": "3.7.6"
  }
 },
 "nbformat": 4,
 "nbformat_minor": 4
}
